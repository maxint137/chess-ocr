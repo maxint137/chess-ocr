{
 "cells": [
  {
   "cell_type": "code",
   "execution_count": 1,
   "metadata": {},
   "outputs": [],
   "source": [
    "import os\n",
    "import numpy as np\n",
    "import matplotlib.pyplot as plt\n"
   ]
  },
  {
   "cell_type": "code",
   "execution_count": 2,
   "metadata": {},
   "outputs": [],
   "source": [
    "import cairosvg"
   ]
  },
  {
   "cell_type": "code",
   "execution_count": 77,
   "metadata": {},
   "outputs": [],
   "source": [
    "from IPython.display import Image"
   ]
  },
  {
   "cell_type": "code",
   "execution_count": 3,
   "metadata": {},
   "outputs": [],
   "source": [
    "from enum import Enum\n",
    "\n",
    "class Color(Enum):\n",
    "    White = 'w'\n",
    "    Black = 'b'\n",
    "\n",
    "class Piece(Enum):\n",
    "    King = 'K'\n",
    "    Queen = 'Q'\n",
    "    Bishop = 'B'\n",
    "    Knight = 'N'\n",
    "    Rook = 'R'\n",
    "    Pawn = 'P'\n"
   ]
  },
  {
   "cell_type": "code",
   "execution_count": 50,
   "metadata": {
    "tags": []
   },
   "outputs": [],
   "source": [
    "assets_root = 'https://lichess1.org/assets/_gs4Gj0/'\n",
    "\n",
    "\n",
    "piece_sets = [\n",
    "\"cburnett\",\n",
    "\"merida\",\n",
    "\"alpha\",\n",
    "\"pirouetti\",\n",
    "\"chessnut\",\n",
    "\"chess7\",\n",
    "\"reillycraig\",\n",
    "\"companion\",\n",
    "\"riohacha\",\n",
    "\"kosal\",\n",
    "\"leipzig\",\n",
    "\"fantasy\",\n",
    "\"spatial\",\n",
    "\"california\",\n",
    "\"pixel\",\n",
    "\"maestro\",\n",
    "\"fresca\",\n",
    "\"cardinal\",\n",
    "\"gioco\",\n",
    "\"tatiana\",\n",
    "\"staunty\",\n",
    "\"dubrovny\",\n",
    "\"icpieces\",\n",
    "\"shapes\",\n",
    "\"letter\",\n",
    "]"
   ]
  },
  {
   "cell_type": "code",
   "execution_count": 221,
   "metadata": {},
   "outputs": [],
   "source": [
    "\n",
    "from typing import Mapping\n",
    "\n",
    "from urllib.request import urlopen\n",
    "\n",
    "\n",
    "def piece_png(set_name: str, piece: Piece, color: Color) -> Mapping[str, bytes]:\n",
    "    # https://lichess1.org/assets/_gs4Gj0/piece/spatial/bB.svg\n",
    "    url = f'{assets_root}piece/{set_name}/{color.value}{piece.value}.svg'\n",
    "    with urlopen(url) as f:\n",
    "        return {f'{set_name}/{color.value}{piece.value}': cairosvg.svg2png(f.read(), output_height=128, output_width=128)}\n",
    "\n",
    "# pngs = [piece_png(s, Piece.KING, Color.WHITE) for s in piece_sets]\n"
   ]
  },
  {
   "cell_type": "code",
   "execution_count": 177,
   "metadata": {
    "tags": []
   },
   "outputs": [],
   "source": [
    "from PIL import Image as PIL_Image\n",
    "from io import BytesIO\n",
    "\n",
    "\n",
    "def save_all_sets():\n",
    "\n",
    "    piece_collection = {}\n",
    "\n",
    "    for ps in piece_sets:\n",
    "        for pc in Piece:\n",
    "            for clr in Color:\n",
    "                print(s, pc, clr)\n",
    "                piece_collection.update(piece_png(ps, pc, clr))\n",
    "\n",
    "    for key in piece_collection:\n",
    "        set_name = key[:key.find('/')]\n",
    "        \n",
    "        dirname = f'imgs/pieces/{set_name}'\n",
    "        filename = f'{dirname}{key[key.find(\"/\"):]}.png'\n",
    "\n",
    "        try:\n",
    "            os.mkdir(dirname)\n",
    "        except FileExistsError as e:\n",
    "            pass\n",
    "\n",
    "        PIL_Image.open(BytesIO(piece_collection[key])).save(filename)\n"
   ]
  },
  {
   "cell_type": "code",
   "execution_count": 223,
   "metadata": {
    "tags": []
   },
   "outputs": [],
   "source": [
    "from typing import Mapping\n",
    "\n",
    "boards=[\n",
    "'blue2.jpg',\n",
    "'blue-marble.jpg',\n",
    "'wood2.jpg',\n",
    "'wood3.jpg',\n",
    "'wood4-1024.jpg',\n",
    "'blue3.jpg',\n",
    "'marble.jpg',\n",
    "'green-plastic.png',\n",
    "'olive.jpg',\n",
    "'purple-diag.png',\n",
    "'grey.jpg',\n",
    "'wood-1024.jpg',\n",
    "'canvas2-1024.jpg',\n",
    "'leather-1024.jpg',\n",
    "'metal-1024.jpg',\n",
    "# 'maple.jpg',  # a smaller size\n",
    "'maple2.jpg',\n",
    "'newspaper.png',\n",
    "'pink-pyramid.png',\n",
    "# 'images/board/svg/purple.svg'÷\n",
    "# 'images/board/svg/blue.svg',\n",
    "# 'images/board/svg/brown.svg',\n",
    "# 'images/board/svg/green.svg',\n",
    "# 'images/board/svg/ic.svg',\n",
    "]\n",
    "\n",
    "\n",
    "def board_bytes(board_name: str) -> bytes:\n",
    "    # https://lichess1.org/assets/_gs4Gj0/images/board/pink-pyramid.png\n",
    "    url = f\"{assets_root}images/board/{board_name}\"\n",
    "    try:\n",
    "        print(url)\n",
    "        with urlopen(url) as f:\n",
    "            return f.read()\n",
    "    except e:\n",
    "        print(e)\n",
    "\n",
    "# jpgs = [board_bytes(board) for board in boards]\n",
    "# [display(Image(jpg)) for jpg in jpgs] \n"
   ]
  },
  {
   "cell_type": "code",
   "execution_count": 228,
   "metadata": {
    "tags": []
   },
   "outputs": [
    {
     "output_type": "stream",
     "name": "stdout",
     "text": "https://lichess1.org/assets/_gs4Gj0/images/board/blue2.jpg\nhttps://lichess1.org/assets/_gs4Gj0/images/board/blue-marble.jpg\nhttps://lichess1.org/assets/_gs4Gj0/images/board/wood2.jpg\nhttps://lichess1.org/assets/_gs4Gj0/images/board/wood3.jpg\nhttps://lichess1.org/assets/_gs4Gj0/images/board/wood4-1024.jpg\nhttps://lichess1.org/assets/_gs4Gj0/images/board/blue3.jpg\nhttps://lichess1.org/assets/_gs4Gj0/images/board/marble.jpg\nhttps://lichess1.org/assets/_gs4Gj0/images/board/green-plastic.png\nhttps://lichess1.org/assets/_gs4Gj0/images/board/olive.jpg\nhttps://lichess1.org/assets/_gs4Gj0/images/board/purple-diag.png\nhttps://lichess1.org/assets/_gs4Gj0/images/board/grey.jpg\nhttps://lichess1.org/assets/_gs4Gj0/images/board/wood-1024.jpg\nhttps://lichess1.org/assets/_gs4Gj0/images/board/canvas2-1024.jpg\nhttps://lichess1.org/assets/_gs4Gj0/images/board/leather-1024.jpg\nhttps://lichess1.org/assets/_gs4Gj0/images/board/metal-1024.jpg\nhttps://lichess1.org/assets/_gs4Gj0/images/board/maple2.jpg\nhttps://lichess1.org/assets/_gs4Gj0/images/board/newspaper.png\nhttps://lichess1.org/assets/_gs4Gj0/images/board/pink-pyramid.png\n"
    }
   ],
   "source": [
    "\n",
    "from PIL import Image as PIL_Image\n",
    "from io import BytesIO\n",
    "\n",
    "\n",
    "def save_all_boards():\n",
    "\n",
    "    boards_collection = {}\n",
    "\n",
    "    for board in boards:\n",
    "        board_name = board[:board.find('.')]\n",
    "\n",
    "        dirname = f'imgs/boards/'\n",
    "        filename = f'{dirname}{board_name}.png'\n",
    "\n",
    "        try:\n",
    "            os.mkdir(dirname)\n",
    "        except FileExistsError as e:\n",
    "            pass\n",
    "\n",
    "        PIL_Image.open(BytesIO(board_bytes(board))).save(filename, )\n",
    "\n",
    "save_all_boards()\n"
   ]
  },
  {
   "cell_type": "code",
   "execution_count": 146,
   "metadata": {},
   "outputs": [],
   "source": [
    "from PIL import Image as PIL_Image\n",
    "from io import BytesIO\n",
    "\n",
    "img = PIL_Image.open(BytesIO(jpgs[0]))\n",
    "\n",
    "type(img)\n",
    "img.save(\"img.png\")"
   ]
  },
  {
   "cell_type": "code",
   "execution_count": 5,
   "metadata": {
    "tags": []
   },
   "outputs": [],
   "source": [
    "from typing import Tuple \n",
    "\n",
    "from PIL import Image as PIL_Image\n",
    "from io import BytesIO\n",
    "\n",
    "def get_square(img: PIL_Image, file_row: Tuple[int,int]) -> PIL_Image:\n",
    "\n",
    "    w = img.size[0]\n",
    "    h = img.size[1]\n",
    "    assert( w == h )\n",
    "\n",
    "    w8 = w//8\n",
    "    h8 = h//8\n",
    "\n",
    "    file_start = (file_row[0]-1) * w8\n",
    "    row_start = (file_row[1]-1) * h8\n",
    "    \n",
    "    sq = img.crop((file_start, row_start, file_start + w8, row_start + h8))\n",
    "    assert(sq.size[0] == sq.size[1])\n",
    "\n",
    "    return sq\n",
    "\n"
   ]
  },
  {
   "cell_type": "code",
   "execution_count": 6,
   "metadata": {
    "tags": []
   },
   "outputs": [],
   "source": [
    "import glob\n",
    "from typing import Tuple, Mapping, Any\n",
    "\n",
    "def piece_on_square(pc: PIL_Image, bd: PIL_Image, file_row: Tuple[int,int]):\n",
    "\n",
    "    sqr = get_square(bd, file_row)\n",
    "    if sqr.size != pc.size:\n",
    "        sqr = sqr.resize(pc.size)\n",
    "    \n",
    "    assert sqr.size == pc.size, f\"bd{sqr.size} != pc{pc.size}\"\n",
    "\n",
    "    sqr.paste(pc, (0, 0), pc)\n",
    "    return sqr\n",
    "\n",
    "def load_all(cpc: str, root_dir: str) -> Mapping[str, Any]:\n",
    "\n",
    "    for filename in glob.iglob(root_dir + f'**/{cpc}.png', recursive=True):\n",
    "        yield (filename, PIL_Image.open(filename))\n",
    "\n",
    "def load_all_pieces(pc, color, root_dir: str) -> Mapping[str, Any]:\n",
    "\n",
    "    return load_all(f'{color.value}{pc.value}', root_dir)\n",
    "\n",
    "\n",
    "root_dir = './imgs/pieces/'\n",
    "black_kings = list(load_all_pieces(Piece.King, Color.Black, root_dir))\n",
    "white_kings = list(load_all_pieces(Piece.King, Color.White, root_dir))\n",
    "\n",
    "black_queens = list(load_all_pieces(Piece.Queen, Color.Black, root_dir))\n",
    "white_queens = list(load_all_pieces(Piece.Queen, Color.White, root_dir))\n",
    "\n",
    "boards = list(load_all('*', './imgs/boards/'))\n",
    "\n"
   ]
  },
  {
   "cell_type": "code",
   "execution_count": 7,
   "metadata": {},
   "outputs": [],
   "source": [
    " \n",
    "from typing import List, Tuple\n",
    "from random import sample, randint\n",
    "\n",
    "\n",
    "def mix20(pcs, brds):\n",
    "    for pc in pcs:\n",
    "        for brd in brds:\n",
    "            for n in range(2):\n",
    "                file = randint(1, 8)\n",
    "                row = randint(1, 8)\n",
    "                yield pc[0], brd[0], (file,row), piece_on_square(pc=pc[1], bd=brd[1], file_row=(file,row))\n",
    "\n",
    "def split(lst: List) -> Tuple[List, List]:\n",
    "    rand_lst = sample(lst, len(lst))\n",
    "\n",
    "    return rand_lst[:len(rand_lst)//2], rand_lst[len(rand_lst)//2:]\n",
    "\n",
    "boards_train, boards_validate = split(boards)\n",
    "\n",
    "bk_train, bk_validate = split(black_kings)\n",
    "bkt = list(mix20(bk_train, boards_train))\n",
    "bkv = list(mix20(bk_validate, boards_validate))\n",
    "\n",
    "bq_train, bq_validate = split(black_queens)\n",
    "bqt = list(mix20(bq_train, boards_train))\n",
    "bqv = list(mix20(bq_validate, boards_validate))\n"
   ]
  },
  {
   "cell_type": "code",
   "execution_count": 8,
   "metadata": {},
   "outputs": [
    {
     "output_type": "execute_result",
     "data": {
      "text/plain": "[('./imgs/pieces/chess7/bK.png',\n  './imgs/boards/wood-1024.png',\n  (1, 5),\n  <PIL.Image._ImageCrop image mode=RGB size=128x128 at 0x7F020C14F2B0>),\n ('./imgs/pieces/chess7/bK.png',\n  './imgs/boards/wood-1024.png',\n  (7, 5),\n  <PIL.Image._ImageCrop image mode=RGB size=128x128 at 0x7F020C0960D0>),\n ('./imgs/pieces/chess7/bK.png',\n  './imgs/boards/blue-marble.png',\n  (8, 2),\n  <PIL.Image.Image image mode=RGB size=128x128 at 0x7F020C14FF10>)]"
     },
     "metadata": {},
     "execution_count": 8
    }
   ],
   "source": [
    "bkt[:3]"
   ]
  },
  {
   "cell_type": "code",
   "execution_count": 27,
   "metadata": {},
   "outputs": [],
   "source": [
    "from pathlib import Path\n",
    "\n",
    "def save_set(color, pc, ims: List, root_dir: str):\n",
    "\n",
    "    base = f'{color.value}{pc.value}'\n",
    "\n",
    "    dst_root = os.path.join(root_dir, base + 's')\n",
    "\n",
    "    Path(dst_root).mkdir(parents=True, exist_ok=True)\n",
    "\n",
    "    prefix = os.path.join(dst_root, base)\n",
    "\n",
    "    for i, tp in enumerate(ims):\n",
    "        yield (f'#{i}', tp[0], tp[1], tp[2], prefix + f'.{i}.png')\n",
    "        tp[3].save(prefix + f'.{i}.png')\n",
    "\n",
    "def save_train_set(color, pc, ims: List):\n",
    "    return list(save_set(color, pc, ims, '../datasets/chess_all/train'))\n",
    "\n",
    "def save_validate_set(color, pc, ims: List):\n",
    "    return list(save_set(color, pc, ims, '../datasets/chess_all/validation'))\n"
   ]
  },
  {
   "cell_type": "code",
   "execution_count": 28,
   "metadata": {
    "tags": []
   },
   "outputs": [],
   "source": [
    "bktl = save_train_set(Color.Black, Piece.King, bkt)\n",
    "bkvl = save_validate_set(Color.Black, Piece.King, bkv)\n",
    "\n",
    "bqtl = save_train_set(Color.Black, Piece.Queen, bqt)\n",
    "bqvl = save_validate_set(Color.Black, Piece.Queen, bqv)\n"
   ]
  },
  {
   "cell_type": "code",
   "execution_count": 29,
   "metadata": {},
   "outputs": [
    {
     "output_type": "execute_result",
     "data": {
      "text/plain": "\n  './imgs/pieces/staunty/bQ.png',\n  './imgs/boards/blue3.png',\n  (2, 1),\n  '../datasets/chess_all/validation/bQs/bQ.91.png'),\n ('#92',\n  './imgs/pieces/staunty/bQ.png',\n  './imgs/boards/maple2.png',\n  (1, 7),\n  '../datasets/chess_all/validation/bQs/bQ.92.png'),\n ('#93',\n  './imgs/pieces/staunty/bQ.png',\n  './imgs/boards/maple2.png',\n  (8, 4),\n  '../datasets/chess_all/validation/bQs/bQ.93.png'),\n ('#94',\n  './imgs/pieces/staunty/bQ.png',\n  './imgs/boards/canvas2-1024.png',\n  (4, 2),\n  '../datasets/chess_all/validation/bQs/bQ.94.png'),\n ('#95',\n  './imgs/pieces/staunty/bQ.png',\n  './imgs/boards/canvas2-1024.png',\n  (8, 3),\n  '../datasets/chess_all/validation/bQs/bQ.95.png'),\n ('#96',\n  './imgs/pieces/staunty/bQ.png',\n  './imgs/boards/marble.png',\n  (2, 4),\n  '../datasets/chess_all/validation/bQs/bQ.96.png'),\n ('#97',\n  './imgs/pieces/staunty/bQ.png',\n  './imgs/boards/marble.png',\n  (6, 6),\n  '../datasets/chess_all/validation/bQs/bQ.97.png'),\n ('#98',\n  './imgs/pieces/staunty/bQ.png',\n  './imgs/boards/newspaper.png',\n  (7, 1),\n  '../datasets/chess_all/validation/bQs/bQ.98.png'),\n ('#99',\n  './imgs/pieces/staunty/bQ.png',\n  './imgs/boards/newspaper.png',\n  (4, 1),\n  '../datasets/chess_all/validation/bQs/bQ.99.png'),\n ('#100',\n  './imgs/pieces/staunty/bQ.png',\n  './imgs/boards/wood3.png',\n  (4, 6),\n  '../datasets/chess_all/validation/bQs/bQ.100.png'),\n ('#101',\n  './imgs/pieces/staunty/bQ.png',\n  './imgs/boards/wood3.png',\n  (6, 2),\n  '../datasets/chess_all/validation/bQs/bQ.101.png'),\n ('#102',\n  './imgs/pieces/staunty/bQ.png',\n  './imgs/boards/olive.png',\n  (8, 4),\n  '../datasets/chess_all/validation/bQs/bQ.102.png'),\n ('#103',\n  './imgs/pieces/staunty/bQ.png',\n  './imgs/boards/olive.png',\n  (3, 7),\n  '../datasets/chess_all/validation/bQs/bQ.103.png'),\n ('#104',\n  './imgs/pieces/staunty/bQ.png',\n  './imgs/boards/leather-1024.png',\n  (1, 6),\n  '../datasets/chess_all/validation/bQs/bQ.104.png'),\n ('#105',\n  './imgs/pieces/staunty/bQ.png',\n  './imgs/boards/leather-1024.png',\n  (3, 6),\n  '../datasets/chess_all/validation/bQs/bQ.105.png'),\n ('#106',\n  './imgs/pieces/staunty/bQ.png',\n  './imgs/boards/wood4-1024.png',\n  (1, 6),\n  '../datasets/chess_all/validation/bQs/bQ.106.png'),\n ('#107',\n  './imgs/pieces/staunty/bQ.png',\n  './imgs/boards/wood4-1024.png',\n  (4, 1),\n  '../datasets/chess_all/validation/bQs/bQ.107.png'),\n ('#108',\n  './imgs/pieces/fresca/bQ.png',\n  './imgs/boards/blue3.png',\n  (6, 8),\n  '../datasets/chess_all/validation/bQs/bQ.108.png'),\n ('#109',\n  './imgs/pieces/fresca/bQ.png',\n  './imgs/boards/blue3.png',\n  (4, 8),\n  '../datasets/chess_all/validation/bQs/bQ.109.png'),\n ('#110',\n  './imgs/pieces/fresca/bQ.png',\n  './imgs/boards/maple2.png',\n  (3, 3),\n  '../datasets/chess_all/validation/bQs/bQ.110.png'),\n ('#111',\n  './imgs/pieces/fresca/bQ.png',\n  './imgs/boards/maple2.png',\n  (6, 1),\n  '../datasets/chess_all/validation/bQs/bQ.111.png'),\n ('#112',\n  './imgs/pieces/fresca/bQ.png',\n  './imgs/boards/canvas2-1024.png',\n  (4, 1),\n  '../datasets/chess_all/validation/bQs/bQ.112.png'),\n ('#113',\n  './imgs/pieces/fresca/bQ.png',\n  './imgs/boards/canvas2-1024.png',\n  (4, 3),\n  '../datasets/chess_all/validation/bQs/bQ.113.png'),\n ('#114',\n  './imgs/pieces/fresca/bQ.png',\n  './imgs/boards/marble.png',\n  (2, 2),\n  '../datasets/chess_all/validation/bQs/bQ.114.png'),\n ('#115',\n  './imgs/pieces/fresca/bQ.png',\n  './imgs/boards/marble.png',\n  (4, 8),\n  '../datasets/chess_all/validation/bQs/bQ.115.png'),\n ('#116',\n  './imgs/pieces/fresca/bQ.png',\n  './imgs/boards/newspaper.png',\n  (3, 6),\n  '../datasets/chess_all/validation/bQs/bQ.116.png'),\n ('#117',\n  './imgs/pieces/fresca/bQ.png',\n  './imgs/boards/newspaper.png',\n  (1, 3),\n  '../datasets/chess_all/validation/bQs/bQ.117.png'),\n ('#118',\n  './imgs/pieces/fresca/bQ.png',\n  './imgs/boards/wood3.png',\n  (1, 8),\n  '../datasets/chess_all/validation/bQs/bQ.118.png'),\n ('#119',\n  './imgs/pieces/fresca/bQ.png',\n  './imgs/boards/wood3.png',\n  (1, 1),\n  '../datasets/chess_all/validation/bQs/bQ.119.png'),\n ('#120',\n  './imgs/pieces/fresca/bQ.png',\n  './imgs/boards/olive.png',\n  (4, 7),\n  '../datasets/chess_all/validation/bQs/bQ.120.png'),\n ('#121',\n  './imgs/pieces/fresca/bQ.png',\n  './imgs/boards/olive.png',\n  (5, 5),\n  '../datasets/chess_all/validation/bQs/bQ.121.png'),\n ('#122',\n  './imgs/pieces/fresca/bQ.png',\n  './imgs/boards/leather-1024.png',\n  (6, 4),\n  '../datasets/chess_all/validation/bQs/bQ.122.png'),\n ('#123',\n  './imgs/pieces/fresca/bQ.png',\n  './imgs/boards/leather-1024.png',\n  (4, 1),\n  '../datasets/chess_all/validation/bQs/bQ.123.png'),\n ('#124',\n  './imgs/pieces/fresca/bQ.png',\n  './imgs/boards/wood4-1024.png',\n  (7, 4),\n  '../datasets/chess_all/validation/bQs/bQ.124.png'),\n ('#125',\n  './imgs/pieces/fresca/bQ.png',\n  './imgs/boards/wood4-1024.png',\n  (7, 1),\n  '../datasets/chess_all/validation/bQs/bQ.125.png'),\n ('#126',\n  './imgs/pieces/chessnut/bQ.png',\n  './imgs/boards/blue3.png',\n  (5, 2),\n  '../datasets/chess_all/validation/bQs/bQ.126.png'),\n ('#127',\n  './imgs/pieces/chessnut/bQ.png',\n  './imgs/boards/blue3.png',\n  (2, 6),\n  '../datasets/chess_all/validation/bQs/bQ.127.png'),\n ('#128',\n  './imgs/pieces/chessnut/bQ.png',\n  './imgs/boards/maple2.png',\n  (3, 6),\n  '../datasets/chess_all/validation/bQs/bQ.128.png'),\n ('#129',\n  './imgs/pieces/chessnut/bQ.png',\n  './imgs/boards/maple2.png',\n  (5, 6),\n  '../datasets/chess_all/validation/bQs/bQ.129.png'),\n ('#130',\n  './imgs/pieces/chessnut/bQ.png',\n  './imgs/boards/canvas2-1024.png',\n  (3, 4),\n  '../datasets/chess_all/validation/bQs/bQ.130.png'),\n ('#131',\n  './imgs/pieces/chessnut/bQ.png',\n  './imgs/boards/canvas2-1024.png',\n  (1, 3),\n  '../datasets/chess_all/validation/bQs/bQ.131.png'),\n ('#132',\n  './imgs/pieces/chessnut/bQ.png',\n  './imgs/boards/marble.png',\n  (4, 8),\n  '../datasets/chess_all/validation/bQs/bQ.132.png'),\n ('#133',\n  './imgs/pieces/chessnut/bQ.png',\n  './imgs/boards/marble.png',\n  (1, 7),\n  '../datasets/chess_all/validation/bQs/bQ.133.png'),\n ('#134',\n  './imgs/pieces/chessnut/bQ.png',\n  './imgs/boards/newspaper.png',\n  (5, 7),\n  '../datasets/chess_all/validation/bQs/bQ.134.png'),\n ('#135',\n  './imgs/pieces/chessnut/bQ.png',\n  './imgs/boards/newspaper.png',\n  (2, 6),\n  '../datasets/chess_all/validation/bQs/bQ.135.png'),\n ('#136',\n  './imgs/pieces/chessnut/bQ.png',\n  './imgs/boards/wood3.png',\n  (8, 2),\n  '../datasets/chess_all/validation/bQs/bQ.136.png'),\n ('#137',\n  './imgs/pieces/chessnut/bQ.png',\n  './imgs/boards/wood3.png',\n  (8, 4),\n  '../datasets/chess_all/validation/bQs/bQ.137.png'),\n ('#138',\n  './imgs/pieces/chessnut/bQ.png',\n  './imgs/boards/olive.png',\n  (7, 4),\n  '../datasets/chess_all/validation/bQs/bQ.138.png'),\n ('#139',\n  './imgs/pieces/chessnut/bQ.png',\n  './imgs/boards/olive.png',\n  (3, 5),\n  '../datasets/chess_all/validation/bQs/bQ.139.png'),\n ('#140',\n  './imgs/pieces/chessnut/bQ.png',\n  './imgs/boards/leather-1024.png',\n  (7, 3),\n  '../datasets/chess_all/validation/bQs/bQ.140.png'),\n ('#141',\n  './imgs/pieces/chessnut/bQ.png',\n  './imgs/boards/leather-1024.png',\n  (6, 4),\n  '../datasets/chess_all/validation/bQs/bQ.141.png'),\n ('#142',\n  './imgs/pieces/chessnut/bQ.png',\n  './imgs/boards/wood4-1024.png',\n  (3, 6),\n  '../datasets/chess_all/validation/bQs/bQ.142.png'),\n ('#143',\n  './imgs/pieces/chessnut/bQ.png',\n  './imgs/boards/wood4-1024.png',\n  (6, 2),\n  '../datasets/chess_all/validation/bQs/bQ.143.png'),\n ('#144',\n  './imgs/pieces/maestro/bQ.png',\n  './imgs/boards/blue3.png',\n  (7, 5),\n  '../datasets/chess_all/validation/bQs/bQ.144.png'),\n ('#145',\n  './imgs/pieces/maestro/bQ.png',\n  './imgs/boards/blue3.png',\n  (8, 5),\n  '../datasets/chess_all/validation/bQs/bQ.145.png'),\n ('#146',\n  './imgs/pieces/maestro/bQ.png',\n  './imgs/boards/maple2.png',\n  (5, 1),\n  '../datasets/chess_all/validation/bQs/bQ.146.png'),\n ('#147',\n  './imgs/pieces/maestro/bQ.png',\n  './imgs/boards/maple2.png',\n  (1, 8),\n  '../datasets/chess_all/validation/bQs/bQ.147.png'),\n ('#148',\n  './imgs/pieces/maestro/bQ.png',\n  './imgs/boards/canvas2-1024.png',\n  (4, 6),\n  '../datasets/chess_all/validation/bQs/bQ.148.png'),\n ('#149',\n  './imgs/pieces/maestro/bQ.png',\n  './imgs/boards/canvas2-1024.png',\n  (8, 8),\n  '../datasets/chess_all/validation/bQs/bQ.149.png'),\n ('#150',\n  './imgs/pieces/maestro/bQ.png',\n  './imgs/boards/marble.png',\n  (1, 1),\n  '../datasets/chess_all/validation/bQs/bQ.150.png'),\n ('#151',\n  './imgs/pieces/maestro/bQ.png',\n  './imgs/boards/marble.png',\n  (2, 1),\n  '../datasets/chess_all/validation/bQs/bQ.151.png'),\n ('#152',\n  './imgs/pieces/maestro/bQ.png',\n  './imgs/boards/newspaper.png',\n  (3, 7),\n  '../datasets/chess_all/validation/bQs/bQ.152.png'),\n ('#153',\n  './imgs/pieces/maestro/bQ.png',\n  './imgs/boards/newspaper.png',\n  (8, 7),\n  '../datasets/chess_all/validation/bQs/bQ.153.png'),\n ('#154',\n  './imgs/pieces/maestro/bQ.png',\n  './imgs/boards/wood3.png',\n  (8, 1),\n  '../datasets/chess_all/validation/bQs/bQ.154.png'),\n ('#155',\n  './imgs/pieces/maestro/bQ.png',\n  './imgs/boards/wood3.png',\n  (5, 8),\n  '../datasets/chess_all/validation/bQs/bQ.155.png'),\n ('#156',\n  './imgs/pieces/maestro/bQ.png',\n  './imgs/boards/olive.png',\n  (3, 1),\n  '../datasets/chess_all/validation/bQs/bQ.156.png'),\n ('#157',\n  './imgs/pieces/maestro/bQ.png',\n  './imgs/boards/olive.png',\n  (1, 1),\n  '../datasets/chess_all/validation/bQs/bQ.157.png'),\n ('#158',\n  './imgs/pieces/maestro/bQ.png',\n  './imgs/boards/leather-1024.png',\n  (2, 6),\n  '../datasets/chess_all/validation/bQs/bQ.158.png'),\n ('#159',\n  './imgs/pieces/maestro/bQ.png',\n  './imgs/boards/leather-1024.png',\n  (3, 6),\n  '../datasets/chess_all/validation/bQs/bQ.159.png'),\n ('#160',\n  './imgs/pieces/maestro/bQ.png',\n  './imgs/boards/wood4-1024.png',\n  (2, 1),\n  '../datasets/chess_all/validation/bQs/bQ.160.png'),\n ('#161',\n  './imgs/pieces/maestro/bQ.png',\n  './imgs/boards/wood4-1024.png',\n  (8, 5),\n  '../datasets/chess_all/validation/bQs/bQ.161.png'),\n ('#162',\n  './imgs/pieces/pixel/bQ.png',\n  './imgs/boards/blue3.png',\n  (8, 2),\n  '../datasets/chess_all/validation/bQs/bQ.162.png'),\n ('#163',\n  './imgs/pieces/pixel/bQ.png',\n  './imgs/boards/blue3.png',\n  (5, 5),\n  '../datasets/chess_all/validation/bQs/bQ.163.png'),\n ('#164',\n  './imgs/pieces/pixel/bQ.png',\n  './imgs/boards/maple2.png',\n  (3, 3),\n  '../datasets/chess_all/validation/bQs/bQ.164.png'),\n ('#165',\n  './imgs/pieces/pixel/bQ.png',\n  './imgs/boards/maple2.png',\n  (5, 4),\n  '../datasets/chess_all/validation/bQs/bQ.165.png'),\n ('#166',\n  './imgs/pieces/pixel/bQ.png',\n  './imgs/boards/canvas2-1024.png',\n  (4, 8),\n  '../datasets/chess_all/validation/bQs/bQ.166.png'),\n ('#167',\n  './imgs/pieces/pixel/bQ.png',\n  './imgs/boards/canvas2-1024.png',\n  (1, 3),\n  '../datasets/chess_all/validation/bQs/bQ.167.png'),\n ('#168',\n  './imgs/pieces/pixel/bQ.png',\n  './imgs/boards/marble.png',\n  (1, 2),\n  '../datasets/chess_all/validation/bQs/bQ.168.png'),\n ('#169',\n  './imgs/pieces/pixel/bQ.png',\n  './imgs/boards/marble.png',\n  (6, 5),\n  '../datasets/chess_all/validation/bQs/bQ.169.png'),\n ('#170',\n  './imgs/pieces/pixel/bQ.png',\n  './imgs/boards/newspaper.png',\n  (6, 1),\n  '../datasets/chess_all/validation/bQs/bQ.170.png'),\n ('#171',\n  './imgs/pieces/pixel/bQ.png',\n  './imgs/boards/newspaper.png',\n  (2, 5),\n  '../datasets/chess_all/validation/bQs/bQ.171.png'),\n ('#172',\n  './imgs/pieces/pixel/bQ.png',\n  './imgs/boards/wood3.png',\n  (2, 5),\n  '../datasets/chess_all/validation/bQs/bQ.172.png'),\n ('#173',\n  './imgs/pieces/pixel/bQ.png',\n  './imgs/boards/wood3.png',\n  (7, 1),\n  '../datasets/chess_all/validation/bQs/bQ.173.png'),\n ('#174',\n  './imgs/pieces/pixel/bQ.png',\n  './imgs/boards/olive.png',\n  (1, 4),\n  '../datasets/chess_all/validation/bQs/bQ.174.png'),\n ('#175',\n  './imgs/pieces/pixel/bQ.png',\n  './imgs/boards/olive.png',\n  (3, 6),\n  '../datasets/chess_all/validation/bQs/bQ.175.png'),\n ('#176',\n  './imgs/pieces/pixel/bQ.png',\n  './imgs/boards/leather-1024.png',\n  (2, 3),\n  '../datasets/chess_all/validation/bQs/bQ.176.png'),\n ('#177',\n  './imgs/pieces/pixel/bQ.png',\n  './imgs/boards/leather-1024.png',\n  (5, 7),\n  '../datasets/chess_all/validation/bQs/bQ.177.png'),\n ('#178',\n  './imgs/pieces/pixel/bQ.png',\n  './imgs/boards/wood4-1024.png',\n  (6, 4),\n  '../datasets/chess_all/validation/bQs/bQ.178.png'),\n ('#179',\n  './imgs/pieces/pixel/bQ.png',\n  './imgs/boards/wood4-1024.png',\n  (2, 8),\n  '../datasets/chess_all/validation/bQs/bQ.179.png'),\n ('#180',\n  './imgs/pieces/pirouetti/bQ.png',\n  './imgs/boards/blue3.png',\n  (3, 8),\n  '../datasets/chess_all/validation/bQs/bQ.180.png'),\n ('#181',\n  './imgs/pieces/pirouetti/bQ.png',\n  './imgs/boards/blue3.png',\n  (3, 3),\n  '../datasets/chess_all/validation/bQs/bQ.181.png'),\n ('#182',\n  './imgs/pieces/pirouetti/bQ.png',\n  './imgs/boards/maple2.png',\n  (4, 5),\n  '../datasets/chess_all/validation/bQs/bQ.182.png'),\n ('#183',\n  './imgs/pieces/pirouetti/bQ.png',\n  './imgs/boards/maple2.png',\n  (8, 6),\n  '../datasets/chess_all/validation/bQs/bQ.183.png'),\n ('#184',\n  './imgs/pieces/pirouetti/bQ.png',\n  './imgs/boards/canvas2-1024.png',\n  (1, 3),\n  '../datasets/chess_all/validation/bQs/bQ.184.png'),\n ('#185',\n  './imgs/pieces/pirouetti/bQ.png',\n  './imgs/boards/canvas2-1024.png',\n  (3, 6),\n  '../datasets/chess_all/validation/bQs/bQ.185.png'),\n ('#186',\n  './imgs/pieces/pirouetti/bQ.png',\n  './imgs/boards/marble.png',\n  (7, 7),\n  '../datasets/chess_all/validation/bQs/bQ.186.png'),\n ('#187',\n  './imgs/pieces/pirouetti/bQ.png',\n  './imgs/boards/marble.png',\n  (1, 1),\n  '../datasets/chess_all/validation/bQs/bQ.187.png'),\n ('#188',\n  './imgs/pieces/pirouetti/bQ.png',\n  './imgs/boards/newspaper.png',\n  (4, 7),\n  '../datasets/chess_all/validation/bQs/bQ.188.png'),\n ('#189',\n  './imgs/pieces/pirouetti/bQ.png',\n  './imgs/boards/newspaper.png',\n  (1, 1),\n  '../datasets/chess_all/validation/bQs/bQ.189.png'),\n ('#190',\n  './imgs/pieces/pirouetti/bQ.png',\n  './imgs/boards/wood3.png',\n  (8, 6),\n  '../datasets/chess_all/validation/bQs/bQ.190.png'),\n ('#191',\n  './imgs/pieces/pirouetti/bQ.png',\n  './imgs/boards/wood3.png',\n  (3, 8),\n  '../datasets/chess_all/validation/bQs/bQ.191.png'),\n ('#192',\n  './imgs/pieces/pirouetti/bQ.png',\n  './imgs/boards/olive.png',\n  (5, 2),\n  '../datasets/chess_all/validation/bQs/bQ.192.png'),\n ('#193',\n  './imgs/pieces/pirouetti/bQ.png',\n  './imgs/boards/olive.png',\n  (6, 7),\n  '../datasets/chess_all/validation/bQs/bQ.193.png'),\n ('#194',\n  './imgs/pieces/pirouetti/bQ.png',\n  './imgs/boards/leather-1024.png',\n  (3, 2),\n  '../datasets/chess_all/validation/bQs/bQ.194.png'),\n ('#195',\n  './imgs/pieces/pirouetti/bQ.png',\n  './imgs/boards/leather-1024.png',\n  (3, 6),\n  '../datasets/chess_all/validation/bQs/bQ.195.png'),\n ('#196',\n  './imgs/pieces/pirouetti/bQ.png',\n  './imgs/boards/wood4-1024.png',\n  (7, 2),\n  '../datasets/chess_all/validation/bQs/bQ.196.png'),\n ('#197',\n  './imgs/pieces/pirouetti/bQ.png',\n  './imgs/boards/wood4-1024.png',\n  (3, 5),\n  '../datasets/chess_all/validation/bQs/bQ.197.png'),\n ('#198',\n  './imgs/pieces/riohacha/bQ.png',\n  './imgs/boards/blue3.png',\n  (3, 8),\n  '../datasets/chess_all/validation/bQs/bQ.198.png'),\n ('#199',\n  './imgs/pieces/riohacha/bQ.png',\n  './imgs/boards/blue3.png',\n  (4, 3),\n  '../datasets/chess_all/validation/bQs/bQ.199.png'),\n ('#200',\n  './imgs/pieces/riohacha/bQ.png',\n  './imgs/boards/maple2.png',\n  (6, 1),\n  '../datasets/chess_all/validation/bQs/bQ.200.png'),\n ('#201',\n  './imgs/pieces/riohacha/bQ.png',\n  './imgs/boards/maple2.png',\n  (6, 3),\n  '../datasets/chess_all/validation/bQs/bQ.201.png'),\n ('#202',\n  './imgs/pieces/riohacha/bQ.png',\n  './imgs/boards/canvas2-1024.png',\n  (7, 4),\n  '../datasets/chess_all/validation/bQs/bQ.202.png'),\n ('#203',\n  './imgs/pieces/riohacha/bQ.png',\n  './imgs/boards/canvas2-1024.png',\n  (1, 7),\n  '../datasets/chess_all/validation/bQs/bQ.203.png'),\n ('#204',\n  './imgs/pieces/riohacha/bQ.png',\n  './imgs/boards/marble.png',\n  (6, 8),\n  '../datasets/chess_all/validation/bQs/bQ.204.png'),\n ('#205',\n  './imgs/pieces/riohacha/bQ.png',\n  './imgs/boards/marble.png',\n  (8, 3),\n  '../datasets/chess_all/validation/bQs/bQ.205.png'),\n ('#206',\n  './imgs/pieces/riohacha/bQ.png',\n  './imgs/boards/newspaper.png',\n  (3, 2),\n  '../datasets/chess_all/validation/bQs/bQ.206.png'),\n ('#207',\n  './imgs/pieces/riohacha/bQ.png',\n  './imgs/boards/newspaper.png',\n  (2, 8),\n  '../datasets/chess_all/validation/bQs/bQ.207.png'),\n ('#208',\n  './imgs/pieces/riohacha/bQ.png',\n  './imgs/boards/wood3.png',\n  (7, 4),\n  '../datasets/chess_all/validation/bQs/bQ.208.png'),\n ('#209',\n  './imgs/pieces/riohacha/bQ.png',\n  './imgs/boards/wood3.png',\n  (4, 6),\n  '../datasets/chess_all/validation/bQs/bQ.209.png'),\n ('#210',\n  './imgs/pieces/riohacha/bQ.png',\n  './imgs/boards/olive.png',\n  (6, 2),\n  '../datasets/chess_all/validation/bQs/bQ.210.png'),\n ('#211',\n  './imgs/pieces/riohacha/bQ.png',\n  './imgs/boards/olive.png',\n  (2, 2),\n  '../datasets/chess_all/validation/bQs/bQ.211.png'),\n ('#212',\n  './imgs/pieces/riohacha/bQ.png',\n  './imgs/boards/leather-1024.png',\n  (7, 3),\n  '../datasets/chess_all/validation/bQs/bQ.212.png'),\n ('#213',\n  './imgs/pieces/riohacha/bQ.png',\n  './imgs/boards/leather-1024.png',\n  (1, 6),\n  '../datasets/chess_all/validation/bQs/bQ.213.png'),\n ('#214',\n  './imgs/pieces/riohacha/bQ.png',\n  './imgs/boards/wood4-1024.png',\n  (8, 3),\n  '../datasets/chess_all/validation/bQs/bQ.214.png'),\n ('#215',\n  './imgs/pieces/riohacha/bQ.png',\n  './imgs/boards/wood4-1024.png',\n  (6, 8),\n  '../datasets/chess_all/validation/bQs/bQ.215.png'),\n ('#216',\n  './imgs/pieces/cburnett/bQ.png',\n  './imgs/boards/blue3.png',\n  (3, 5),\n  '../datasets/chess_all/validation/bQs/bQ.216.png'),\n ('#217',\n  './imgs/pieces/cburnett/bQ.png',\n  './imgs/boards/blue3.png',\n  (8, 1),\n  '../datasets/chess_all/validation/bQs/bQ.217.png'),\n ('#218',\n  './imgs/pieces/cburnett/bQ.png',\n  './imgs/boards/maple2.png',\n  (5, 3),\n  '../datasets/chess_all/validation/bQs/bQ.218.png'),\n ('#219',\n  './imgs/pieces/cburnett/bQ.png',\n  './imgs/boards/maple2.png',\n  (2, 8),\n  '../datasets/chess_all/validation/bQs/bQ.219.png'),\n ('#220',\n  './imgs/pieces/cburnett/bQ.png',\n  './imgs/boards/canvas2-1024.png',\n  (3, 2),\n  '../datasets/chess_all/validation/bQs/bQ.220.png'),\n ('#221',\n  './imgs/pieces/cburnett/bQ.png',\n  './imgs/boards/canvas2-1024.png',\n  (2, 7),\n  '../datasets/chess_all/validation/bQs/bQ.221.png'),\n ('#222',\n  './imgs/pieces/cburnett/bQ.png',\n  './imgs/boards/marble.png',\n  (8, 5),\n  '../datasets/chess_all/validation/bQs/bQ.222.png'),\n ('#223',\n  './imgs/pieces/cburnett/bQ.png',\n  './imgs/boards/marble.png',\n  (5, 3),\n  '../datasets/chess_all/validation/bQs/bQ.223.png'),\n ('#224',\n  './imgs/pieces/cburnett/bQ.png',\n  './imgs/boards/newspaper.png',\n  (7, 7),\n  '../datasets/chess_all/validation/bQs/bQ.224.png'),\n ('#225',\n  './imgs/pieces/cburnett/bQ.png',\n  './imgs/boards/newspaper.png',\n  (7, 1),\n  '../datasets/chess_all/validation/bQs/bQ.225.png'),\n ('#226',\n  './imgs/pieces/cburnett/bQ.png',\n  './imgs/boards/wood3.png',\n  (8, 1),\n  '../datasets/chess_all/validation/bQs/bQ.226.png'),\n ('#227',\n  './imgs/pieces/cburnett/bQ.png',\n  './imgs/boards/wood3.png',\n  (5, 7),\n  '../datasets/chess_all/validation/bQs/bQ.227.png'),\n ('#228',\n  './imgs/pieces/cburnett/bQ.png',\n  './imgs/boards/olive.png',\n  (2, 7),\n  '../datasets/chess_all/validation/bQs/bQ.228.png'),\n ('#229',\n  './imgs/pieces/cburnett/bQ.png',\n  './imgs/boards/olive.png',\n  (4, 4),\n  '../datasets/chess_all/validation/bQs/bQ.229.png'),\n ('#230',\n  './imgs/pieces/cburnett/bQ.png',\n  './imgs/boards/leather-1024.png',\n  (2, 3),\n  '../datasets/chess_all/validation/bQs/bQ.230.png'),\n ('#231',\n  './imgs/pieces/cburnett/bQ.png',\n  './imgs/boards/leather-1024.png',\n  (8, 8),\n  '../datasets/chess_all/validation/bQs/bQ.231.png'),\n ('#232',\n  './imgs/pieces/cburnett/bQ.png',\n  './imgs/boards/wood4-1024.png',\n  (7, 8),\n  '../datasets/chess_all/validation/bQs/bQ.232.png'),\n ('#233',\n  './imgs/pieces/cburnett/bQ.png',\n  './imgs/boards/wood4-1024.png',\n  (2, 5),\n  '../datasets/chess_all/validation/bQs/bQ.233.png')]"
     },
     "metadata": {},
     "execution_count": 29
    }
   ],
   "source": [
    "bqvl"
   ]
  },
  {
   "cell_type": "code",
   "execution_count": null,
   "metadata": {},
   "outputs": [],
   "source": []
  }
 ],
 "metadata": {
  "language_info": {
   "codemirror_mode": {
    "name": "ipython",
    "version": 3
   },
   "file_extension": ".py",
   "mimetype": "text/x-python",
   "name": "python",
   "nbconvert_exporter": "python",
   "pygments_lexer": "ipython3",
   "version": "3.8.3-final"
  },
  "orig_nbformat": 2,
  "kernelspec": {
   "name": "python38364bit1e22d80bb6b04127ac622c20e357522a",
   "display_name": "Python 3.8.3 64-bit"
  }
 },
 "nbformat": 4,
 "nbformat_minor": 2
}